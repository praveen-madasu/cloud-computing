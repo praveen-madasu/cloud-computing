{
 "cells": [
  {
   "cell_type": "markdown",
   "metadata": {},
   "source": [
    "# <center>Wikipedia Movie Plots<center>"
   ]
  },
  {
   "cell_type": "markdown",
   "metadata": {},
   "source": [
    "![](movies-tiles.jpg)"
   ]
  },
  {
   "cell_type": "markdown",
   "metadata": {},
   "source": [
    "### Team Members"
   ]
  },
  {
   "cell_type": "markdown",
   "metadata": {},
   "source": [
    "1. Shanmukha Praveen Madasu (smadasu1@uncc.edu)\n",
    "2. Sai Krishna Telukuntla (stelukun@uncc.edu)\n",
    "3. Divya Patel (dpate146@uncc.edu)"
   ]
  },
  {
   "cell_type": "markdown",
   "metadata": {},
   "source": [
    "### Overview"
   ]
  },
  {
   "cell_type": "markdown",
   "metadata": {},
   "source": [
    "- The goal of our project is to analyze and extract meaningful information from Wikipedia movie plots dataset.\n",
    "- Our information retrieval algorithm returns a similar movie titles based on an input plot description. \n",
    "- And also, it will predict movie genre based on the plot description."
   ]
  },
  {
   "cell_type": "markdown",
   "metadata": {},
   "source": [
    "### Dataset"
   ]
  },
  {
   "cell_type": "markdown",
   "metadata": {},
   "source": [
    "https://www.kaggle.com/jrobischon/wikipedia-movie-plots\n",
    "\n",
    "We got the dataset from Kaggle. These contain plot summary description scraped from Wikipedia. The dataset contains descriptions of 34,886 movies from around the world. Column descriptions are listed below.\n",
    "\n",
    "- Release Year - Year in which the movie was released\n",
    "- Title - Movie title\n",
    "- Origin/Ethnicity - Origin of movie (i.e. American, Bollywood, Tamil, etc.)\n",
    "- Director - Director(s)\n",
    "- Plot - Main actor and actresses\n",
    "- Genre - Movie Genre(s)\n",
    "- Wiki Page - URL of the Wikipedia page from which the plot description was scraped\n",
    "- Plot - Long form description of movie plot"
   ]
  },
  {
   "cell_type": "markdown",
   "metadata": {},
   "source": [
    "### Data Preprocessing"
   ]
  },
  {
   "cell_type": "markdown",
   "metadata": {},
   "source": [
    "There are so many Null and Unknown values present in the dataset."
   ]
  },
  {
   "cell_type": "markdown",
   "metadata": {},
   "source": [
    "![](dataset.JPG)"
   ]
  },
  {
   "cell_type": "markdown",
   "metadata": {},
   "source": [
    "*Total Unknown values*"
   ]
  },
  {
   "cell_type": "markdown",
   "metadata": {},
   "source": [
    "![](nullvalues.JPG)"
   ]
  },
  {
   "cell_type": "markdown",
   "metadata": {},
   "source": [
    "- Our dataset was too huge with more than 30K movies data after removing null value rows. So, data preprocessing was very important.\n",
    "- First step was to remove all the data which has more than one genre because it will just confuse our model. There are 2191 unique genres.\n",
    "- Then we also removed all unimportant columns like director, cast etc. Because we trained our model by finding plot’s tf-idf vector.\n",
    "- At last, we found top 5 genre and remove other genre movies. Also, we gave different integer label to our dataset. Top genre will get 0 and it will be followed for all genre. "
   ]
  },
  {
   "cell_type": "markdown",
   "metadata": {},
   "source": [
    "### Tasks Involved and Steps Implemented"
   ]
  },
  {
   "cell_type": "markdown",
   "metadata": {},
   "source": [
    "> - Configuring Spark\n",
    "> - Understanding problem statement\n",
    "> - Understanding the algorithm\n",
    "> - Fetching the data\n",
    "> - Data Preprocessing\n",
    "> - Implementing Index, QueryIndex, TF-IDF, Cosine Similarity on local machine\n",
    "> - Implementing machine learning techniques like Logistic Regression, Naive Bayes on local machine\n",
    "> - Deploying code and data to AWS web services like S3 and EMR\n",
    "> - Generating output\n",
    "> - Project Report"
   ]
  },
  {
   "cell_type": "markdown",
   "metadata": {},
   "source": [
    "### Motivation"
   ]
  },
  {
   "cell_type": "markdown",
   "metadata": {},
   "source": [
    "Everyone loves watching movies. There are some movies we like and some we don’t. Sometimes we don’t remember the name of the movies, but we know the plot. In such cases, our information retrieval algorithm would give us movie names if we describe the plot to it.\n",
    "\n",
    "Moreover, we all love watching superhero movies. Movies within a genre share common parameters. For example, consider these two movies: Avengers Endgame and Spider-Man Far from Home. These two movies are similar, where superhero protects people from evil. We can say this by intuition. But we will use cloud computing techniques to figure out similarities between movies."
   ]
  },
  {
   "cell_type": "markdown",
   "metadata": {},
   "source": [
    "### Algorithms"
   ]
  },
  {
   "cell_type": "markdown",
   "metadata": {},
   "source": [
    "##### TF-IDF\n",
    "\n",
    "- The tf–idf is the product of two statistics, term frequency and inverse document frequency. There are various ways for determining the exact values of both statistics.\n",
    "- Term frequency tf(t,d), the simplest choice is to use the raw count of a term in a document, i.e., the number of times that term t occurs in document d.\n",
    "- The inverse document frequency is a measure of how much information the word provides, i.e., if it's common or rare across all documents. It is the logarithmically scaled inverse fraction of the documents that contain the word (obtained by dividing the total number of documents by the number of documents containing the term, and then taking the logarithm of that quotient)\n",
    "\n",
    "![](tfidf.JPG)\n",
    "\n",
    "\n",
    "##### Cosine Similarity\n",
    "\n",
    "- Cosine similarity is a measure of similarity between two non-zero vectors of an inner product space that measures the cosine of the angle between them. \n",
    "- The cosine of 0° is 1, and it is less than 1 for any angle in the interval (0,π] radians. It is thus a judgment of orientation and not magnitude: two vectors with the same orientation have a cosine similarity of 1, two vectors oriented at 90° relative to each other have a similarity of 0, and two vectors diametrically opposed have a similarity of -1, independent of their magnitude. \n",
    "\n",
    "![](cossim.JPG)\n",
    "\n",
    "##### Machine Learning\n",
    "\n",
    "- After data Preprocessing, we stuck with just two columns plot and genre. So, now our aim was to convert all movies plots into vector and then train the model.\n",
    "- As you can see in the figure first few steps were for feature extraction. In which we did punctuation removal which will remove all comma, semi-colon, question-mark etc. It will be followed by removing stop words like is, are, was etc. \n",
    "- Then we did tokenization and vectorization to convert plot into vector of words and which helped us to calculate tf-idf vector. The output was very sparse with 70K features.\n",
    "- As we want to solve multiclass classification problem, we tried to train our data using Naïve Bayes and Logistic Regression. Which are both likelihood-probabilistic model which can give class probabilities about that genre to be a particular class and we can pick the best.\n",
    "\n",
    "\n",
    "![](ml.jpg)\n"
   ]
  },
  {
   "cell_type": "markdown",
   "metadata": {},
   "source": [
    "### Libraries used"
   ]
  },
  {
   "cell_type": "markdown",
   "metadata": {},
   "source": [
    "- [x] Tokenizer, CountVectorizer, StopWordsRemover\n",
    "- [x] VectorUDT\n",
    "- [x] SparseVector, DenseVector\n",
    "- [x] NaiveBayes, Logistic Regression\n",
    "- [x] MulticlassClassificationEvaluator\n",
    "- [x] ChiSqSelector"
   ]
  },
  {
   "cell_type": "markdown",
   "metadata": {},
   "source": [
    "### External Tools"
   ]
  },
  {
   "cell_type": "markdown",
   "metadata": {},
   "source": [
    "- Amazon S3 for data storage\n",
    "- AWS EMR for data processing and analysis"
   ]
  },
  {
   "cell_type": "markdown",
   "metadata": {},
   "source": [
    "### Framework"
   ]
  },
  {
   "cell_type": "markdown",
   "metadata": {},
   "source": [
    "##### Apache Spark\n",
    "\n",
    "![](spark.JPG)"
   ]
  },
  {
   "cell_type": "markdown",
   "metadata": {},
   "source": [
    "#### Hadoop\n",
    "\n",
    "![](hadoop.png)"
   ]
  },
  {
   "cell_type": "markdown",
   "metadata": {},
   "source": [
    "### Expectations/Aspects"
   ]
  },
  {
   "cell_type": "markdown",
   "metadata": {},
   "source": [
    "#### 1. What to expect?\n",
    "- Implementation of all algorithms to extract movie similarities from plot summaries.\n",
    "- We did data preprocessing and feature extraction on huge dataset\n",
    "- We solved multiclass classification problem and made system which can predict genre from the plot.\n",
    "- We made whole system in a distributive way using pyspark.\n",
    "- We implemented two different machine learning algorithms like Naïve Bayes and logistic regression. Also, made comparison with each other."
   ]
  },
  {
   "cell_type": "markdown",
   "metadata": {},
   "source": [
    "#### 2. Likely to accomplish\n",
    "- Predicting movie genre based on plot description using machine learning algorithms with high accuracy."
   ]
  },
  {
   "cell_type": "markdown",
   "metadata": {},
   "source": [
    "#### 3. Ideal Accomplishments\n",
    "- Suggested modifications in the exisitng implementation.\n",
    "- Extract the data using web crawling technique."
   ]
  },
  {
   "cell_type": "markdown",
   "metadata": {},
   "source": [
    "### Team Responsibilities"
   ]
  },
  {
   "cell_type": "markdown",
   "metadata": {},
   "source": [
    "| Task | Team Members |\n",
    "|------|-------------|\n",
    "| Preprocessing the Data | Praveen Madasu, Divya Patel |\n",
    "| Implementation of TF-IDF & Cosine Similarity algorithms | Praveen Madasu, Sai Krishna Telukuntla |\n",
    "| Implementation of Machine learning algorithms | Divya Patel, Praveen Madasu |\n",
    "| Project Report | Sai Krishna Telukuntla, Divya Patel, Praveen Madasu |"
   ]
  },
  {
   "cell_type": "markdown",
   "metadata": {},
   "source": [
    "### Results"
   ]
  },
  {
   "cell_type": "markdown",
   "metadata": {},
   "source": [
    "##### Query\n",
    "\n",
    "![](query.JPG)"
   ]
  },
  {
   "cell_type": "markdown",
   "metadata": {},
   "source": [
    "##### Top 5 Similar movie names\n",
    "\n",
    "![](result1.png)"
   ]
  },
  {
   "cell_type": "markdown",
   "metadata": {},
   "source": [
    "##### Logistic Regerssion Accuracy"
   ]
  },
  {
   "cell_type": "markdown",
   "metadata": {},
   "source": [
    "![](log_reg.JPG)"
   ]
  },
  {
   "cell_type": "markdown",
   "metadata": {},
   "source": [
    "##### Naive Bayes Accuracy"
   ]
  },
  {
   "cell_type": "markdown",
   "metadata": {},
   "source": [
    "![](nb.JPG)\n",
    "\n",
    "| Model | For 3 class |  For 5 class | For 10 class |\n",
    "|-------|-------|-----------|-----------|\n",
    "| Naive Bayes | 62% | 53% | 51% |\n",
    "| Logistic Regression | 54% | 52% | 54% |\n",
    "\n",
    "- As you can see, we have got 62% accuracy using multinomial naïve bayes and 54% at max which is not that great because as we said in the challenge due to lot of unique genres and most of them are kind of overlapping on each other. \n",
    "- It is more of multilabel classification problem than multiclass problem. "
   ]
  },
  {
   "cell_type": "markdown",
   "metadata": {},
   "source": [
    "### Challenges Faced"
   ]
  },
  {
   "cell_type": "markdown",
   "metadata": {},
   "source": [
    "- Unfortunately, there are lots of challenges we faced during our project. \n",
    "- Firstly, dataset was too big with very huge plots of every movie. So, vocabulary size was around 70K. It made our output vector very huge and sparse. Which made hard during training. We got timed-out error many times then instead of parsing that sparse matrix, we converted matrix in dense manner. Which has tuple with three values. First one is total feature, second is list of indexes of non-zero tf-idf score words and last value of score. \n",
    "- We have 2K unique genres with lots of genre combining other two genre which confused our model while learning. Like lots of drama movies are comedy, too. This makes this huge dataset kind of small in manner of induvial genre wise. "
   ]
  },
  {
   "cell_type": "markdown",
   "metadata": {},
   "source": [
    "### Conclusion"
   ]
  },
  {
   "cell_type": "markdown",
   "metadata": {},
   "source": [
    "- Using TF-IDF and Cosine similarity algorithms, we have succesfully extracted similar movies list with the user plot description.\n",
    "- And have successfully calssified movie genres based on movie plot description using logistic regression and naive bayes algorithms."
   ]
  },
  {
   "cell_type": "markdown",
   "metadata": {},
   "source": [
    "### References"
   ]
  },
  {
   "cell_type": "markdown",
   "metadata": {},
   "source": [
    "1. [TF-IDF](https://en.wikipedia.org/wiki/Tf%E2%80%93idf)\n",
    "2. [Cosine Similarity](https://en.wikipedia.org/wiki/Cosine_similarity)\n",
    "3. [spark documentation](http://spark.apache.org/docs/latest/api/python/index.html)\n",
    "4. [Classification documentation](https://spark.apache.org/docs/latest/ml-classification-regression.html)"
   ]
  }
 ],
 "metadata": {
  "kernelspec": {
   "display_name": "Python 3",
   "language": "python",
   "name": "python3"
  },
  "language_info": {
   "codemirror_mode": {
    "name": "ipython",
    "version": 3
   },
   "file_extension": ".py",
   "mimetype": "text/x-python",
   "name": "python",
   "nbconvert_exporter": "python",
   "pygments_lexer": "ipython3",
   "version": "3.7.3"
  }
 },
 "nbformat": 4,
 "nbformat_minor": 4
}
